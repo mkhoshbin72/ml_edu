{
 "cells": [
  {
   "attachments": {},
   "cell_type": "markdown",
   "metadata": {},
   "source": [
    "Dataset Download Link: \\\n",
    "https://www.cs.toronto.edu/~kriz/cifar-10-python.tar.gz \n",
    "\n",
    "After the download is completed, you should unzip it and copy batches in a folder named \"cifar-10-python\"."
   ]
  },
  {
   "cell_type": "code",
   "execution_count": 1,
   "metadata": {},
   "outputs": [],
   "source": [
    "from tensorflow.keras.datasets import cifar10\n",
    "import numpy as np"
   ]
  },
  {
   "cell_type": "code",
   "execution_count": 2,
   "metadata": {},
   "outputs": [],
   "source": [
    "def unpickle(file):\n",
    "    import pickle\n",
    "    with open(file, 'rb') as fo:\n",
    "        dict = pickle.load(fo, encoding='bytes')\n",
    "    return dict"
   ]
  },
  {
   "cell_type": "code",
   "execution_count": 3,
   "metadata": {},
   "outputs": [],
   "source": [
    "batch_1 = unpickle('cifar-10-python/data_batch_1')\n",
    "batch_2 = unpickle('cifar-10-python/data_batch_2')\n",
    "batch_3 = unpickle('cifar-10-python/data_batch_3')\n",
    "batch_4 = unpickle('cifar-10-python/data_batch_4')\n",
    "batch_5 = unpickle('cifar-10-python/data_batch_5')\n",
    "\n",
    "test_batch = unpickle('cifar-10-python/test_batch')"
   ]
  },
  {
   "cell_type": "code",
   "execution_count": 34,
   "metadata": {},
   "outputs": [
    {
     "data": {
      "text/plain": [
       "dict_keys([b'batch_label', b'labels', b'data', b'filenames'])"
      ]
     },
     "execution_count": 34,
     "metadata": {},
     "output_type": "execute_result"
    }
   ],
   "source": [
    "batch_1.keys()"
   ]
  },
  {
   "cell_type": "code",
   "execution_count": 4,
   "metadata": {},
   "outputs": [],
   "source": [
    "data = list(batch_1[b'data']) + list(batch_2[b'data']) + list(batch_3[b'data']) + list(batch_4[b'data']) + list(batch_5[b'data'])\n",
    "labels = list(batch_1[b'labels']) + list(batch_2[b'labels']) + list(batch_3[b'labels']) + list(batch_4[b'labels']) + list(batch_5[b'labels'])"
   ]
  },
  {
   "cell_type": "code",
   "execution_count": 5,
   "metadata": {},
   "outputs": [
    {
     "data": {
      "text/plain": [
       "((50000, 3072), (50000,))"
      ]
     },
     "execution_count": 5,
     "metadata": {},
     "output_type": "execute_result"
    }
   ],
   "source": [
    "np.array(data).shape, np.array(labels).shape"
   ]
  },
  {
   "cell_type": "code",
   "execution_count": 6,
   "metadata": {},
   "outputs": [],
   "source": [
    "X_train = np.array(data)[:1000]\n",
    "y_train = np.array(labels)[:1000]\n",
    "\n",
    "X_test = test_batch[b'data'][:100]\n",
    "y_test = np.array(test_batch[b'labels'])[:100]"
   ]
  },
  {
   "cell_type": "code",
   "execution_count": 7,
   "metadata": {},
   "outputs": [
    {
     "data": {
      "text/plain": [
       "((1000, 3072), (100, 3072))"
      ]
     },
     "execution_count": 7,
     "metadata": {},
     "output_type": "execute_result"
    }
   ],
   "source": [
    "X_train.shape, X_test.shape"
   ]
  },
  {
   "cell_type": "code",
   "execution_count": 8,
   "metadata": {},
   "outputs": [],
   "source": [
    "X_train = X_train.reshape((1000, 32, 32, 3))\n",
    "X_test = X_test.reshape((100, 32, 32, 3))"
   ]
  },
  {
   "cell_type": "code",
   "execution_count": 9,
   "metadata": {},
   "outputs": [
    {
     "data": {
      "text/plain": [
       "((1000, 32, 32, 3), (100, 32, 32, 3))"
      ]
     },
     "execution_count": 9,
     "metadata": {},
     "output_type": "execute_result"
    }
   ],
   "source": [
    "X_train.shape, X_test.shape"
   ]
  },
  {
   "cell_type": "code",
   "execution_count": 10,
   "metadata": {},
   "outputs": [],
   "source": [
    "X_train = X_train/255\n",
    "X_test = X_test/255"
   ]
  },
  {
   "cell_type": "code",
   "execution_count": 11,
   "metadata": {},
   "outputs": [],
   "source": [
    "from tensorflow.keras.models import Sequential\n",
    "from tensorflow.keras.layers import Dense, Conv2D, MaxPool2D, Dropout, Flatten, Input"
   ]
  },
  {
   "cell_type": "code",
   "execution_count": 35,
   "metadata": {},
   "outputs": [],
   "source": [
    "model = Sequential()\n",
    "\n",
    "model.add(Input(shape=(32, 32, 3)))\n",
    "\n",
    "model.add(Conv2D(filters=8, kernel_size=(3,3)))\n",
    "model.add(MaxPool2D((2,2)))\n",
    "\n",
    "model.add(Conv2D(16, kernel_size=(3,3)))\n",
    "model.add(MaxPool2D((2,2)))\n",
    "\n",
    "model.add(Flatten())\n",
    "\n",
    "model.add(Dense(32))\n",
    "model.add(Dense(10, activation='softmax'))\n",
    "\n",
    "model.compile(optimizer='adam', loss='sparse_categorical_crossentropy', metrics=['accuracy'])"
   ]
  },
  {
   "cell_type": "code",
   "execution_count": 36,
   "metadata": {},
   "outputs": [
    {
     "name": "stdout",
     "output_type": "stream",
     "text": [
      "Model: \"sequential_4\"\n",
      "_________________________________________________________________\n",
      "Layer (type)                 Output Shape              Param #   \n",
      "=================================================================\n",
      "conv2d_8 (Conv2D)            (None, 30, 30, 8)         224       \n",
      "_________________________________________________________________\n",
      "max_pooling2d_8 (MaxPooling2 (None, 15, 15, 8)         0         \n",
      "_________________________________________________________________\n",
      "conv2d_9 (Conv2D)            (None, 13, 13, 16)        1168      \n",
      "_________________________________________________________________\n",
      "max_pooling2d_9 (MaxPooling2 (None, 6, 6, 16)          0         \n",
      "_________________________________________________________________\n",
      "flatten_4 (Flatten)          (None, 576)               0         \n",
      "_________________________________________________________________\n",
      "dense_8 (Dense)              (None, 32)                18464     \n",
      "_________________________________________________________________\n",
      "dense_9 (Dense)              (None, 10)                330       \n",
      "=================================================================\n",
      "Total params: 20,186\n",
      "Trainable params: 20,186\n",
      "Non-trainable params: 0\n",
      "_________________________________________________________________\n"
     ]
    }
   ],
   "source": [
    "model.summary()"
   ]
  },
  {
   "cell_type": "code",
   "execution_count": 28,
   "metadata": {},
   "outputs": [
    {
     "name": "stdout",
     "output_type": "stream",
     "text": [
      "Epoch 1/100\n",
      "WARNING:tensorflow:AutoGraph could not transform <function Model.make_train_function.<locals>.train_function at 0x7fc67f231598> and will run it as-is.\n",
      "Please report this to the TensorFlow team. When filing the bug, set the verbosity to 10 (on Linux, `export AUTOGRAPH_VERBOSITY=10`) and attach the full output.\n",
      "Cause: 'arguments' object has no attribute 'posonlyargs'\n",
      "To silence this warning, decorate the function with @tf.autograph.experimental.do_not_convert\n",
      "WARNING: AutoGraph could not transform <function Model.make_train_function.<locals>.train_function at 0x7fc67f231598> and will run it as-is.\n",
      "Please report this to the TensorFlow team. When filing the bug, set the verbosity to 10 (on Linux, `export AUTOGRAPH_VERBOSITY=10`) and attach the full output.\n",
      "Cause: 'arguments' object has no attribute 'posonlyargs'\n",
      "To silence this warning, decorate the function with @tf.autograph.experimental.do_not_convert\n",
      "29/32 [==========================>...] - ETA: 0s - loss: 2.3210 - accuracy: 0.1298WARNING:tensorflow:AutoGraph could not transform <function Model.make_test_function.<locals>.test_function at 0x7fc6a07d71e0> and will run it as-is.\n",
      "Please report this to the TensorFlow team. When filing the bug, set the verbosity to 10 (on Linux, `export AUTOGRAPH_VERBOSITY=10`) and attach the full output.\n",
      "Cause: 'arguments' object has no attribute 'posonlyargs'\n",
      "To silence this warning, decorate the function with @tf.autograph.experimental.do_not_convert\n",
      "WARNING: AutoGraph could not transform <function Model.make_test_function.<locals>.test_function at 0x7fc6a07d71e0> and will run it as-is.\n",
      "Please report this to the TensorFlow team. When filing the bug, set the verbosity to 10 (on Linux, `export AUTOGRAPH_VERBOSITY=10`) and attach the full output.\n",
      "Cause: 'arguments' object has no attribute 'posonlyargs'\n",
      "To silence this warning, decorate the function with @tf.autograph.experimental.do_not_convert\n",
      "32/32 [==============================] - 1s 16ms/step - loss: 2.3142 - accuracy: 0.1330 - val_loss: 2.1689 - val_accuracy: 0.1800\n",
      "Epoch 2/100\n",
      "32/32 [==============================] - 0s 9ms/step - loss: 2.0996 - accuracy: 0.2308 - val_loss: 1.9933 - val_accuracy: 0.3100\n",
      "Epoch 3/100\n",
      "32/32 [==============================] - 0s 9ms/step - loss: 1.9220 - accuracy: 0.3246 - val_loss: 1.9075 - val_accuracy: 0.3500\n",
      "Epoch 4/100\n",
      "32/32 [==============================] - 0s 10ms/step - loss: 1.8433 - accuracy: 0.3516 - val_loss: 1.8570 - val_accuracy: 0.3700\n",
      "Epoch 5/100\n",
      "32/32 [==============================] - 0s 9ms/step - loss: 1.7438 - accuracy: 0.3926 - val_loss: 1.8382 - val_accuracy: 0.3700\n",
      "Epoch 6/100\n",
      "32/32 [==============================] - 0s 9ms/step - loss: 1.6764 - accuracy: 0.3936 - val_loss: 1.7939 - val_accuracy: 0.4000\n",
      "Epoch 7/100\n",
      "32/32 [==============================] - 0s 9ms/step - loss: 1.5731 - accuracy: 0.4593 - val_loss: 1.7336 - val_accuracy: 0.3900\n",
      "Epoch 8/100\n",
      "32/32 [==============================] - 0s 9ms/step - loss: 1.5412 - accuracy: 0.4896 - val_loss: 1.7403 - val_accuracy: 0.3700\n",
      "Epoch 9/100\n",
      "32/32 [==============================] - 0s 9ms/step - loss: 1.5119 - accuracy: 0.4874 - val_loss: 1.7008 - val_accuracy: 0.4400\n",
      "Epoch 10/100\n",
      "32/32 [==============================] - 0s 9ms/step - loss: 1.4132 - accuracy: 0.5415 - val_loss: 1.7506 - val_accuracy: 0.4200\n",
      "Epoch 11/100\n",
      "32/32 [==============================] - 0s 9ms/step - loss: 1.3654 - accuracy: 0.5330 - val_loss: 1.6915 - val_accuracy: 0.4300\n",
      "Epoch 12/100\n",
      "32/32 [==============================] - 0s 9ms/step - loss: 1.3182 - accuracy: 0.5476 - val_loss: 1.6896 - val_accuracy: 0.4500\n",
      "Epoch 13/100\n",
      "32/32 [==============================] - 0s 9ms/step - loss: 1.2538 - accuracy: 0.5729 - val_loss: 1.6890 - val_accuracy: 0.4400\n",
      "Epoch 14/100\n",
      "32/32 [==============================] - 0s 10ms/step - loss: 1.2283 - accuracy: 0.5858 - val_loss: 1.7469 - val_accuracy: 0.4100\n",
      "Epoch 15/100\n",
      "32/32 [==============================] - 0s 9ms/step - loss: 1.2211 - accuracy: 0.5974 - val_loss: 1.7331 - val_accuracy: 0.4500\n",
      "Epoch 16/100\n",
      "32/32 [==============================] - 0s 8ms/step - loss: 1.0889 - accuracy: 0.6404 - val_loss: 1.7581 - val_accuracy: 0.4200\n",
      "Epoch 17/100\n",
      "32/32 [==============================] - 0s 9ms/step - loss: 1.1224 - accuracy: 0.6328 - val_loss: 1.6787 - val_accuracy: 0.4400\n",
      "Epoch 18/100\n",
      "32/32 [==============================] - 0s 9ms/step - loss: 1.0272 - accuracy: 0.6718 - val_loss: 1.7200 - val_accuracy: 0.4300\n",
      "Epoch 19/100\n",
      "32/32 [==============================] - 0s 9ms/step - loss: 0.9861 - accuracy: 0.6669 - val_loss: 1.7023 - val_accuracy: 0.4700\n",
      "Epoch 20/100\n",
      "32/32 [==============================] - 0s 9ms/step - loss: 0.9039 - accuracy: 0.7314 - val_loss: 1.7092 - val_accuracy: 0.4700\n",
      "Epoch 21/100\n",
      "32/32 [==============================] - 0s 8ms/step - loss: 0.8462 - accuracy: 0.7554 - val_loss: 1.7285 - val_accuracy: 0.4600\n",
      "Epoch 22/100\n",
      "32/32 [==============================] - 0s 9ms/step - loss: 0.8481 - accuracy: 0.7389 - val_loss: 1.7728 - val_accuracy: 0.4300\n",
      "Epoch 23/100\n",
      "32/32 [==============================] - 0s 9ms/step - loss: 0.8650 - accuracy: 0.6989 - val_loss: 1.7869 - val_accuracy: 0.4700\n",
      "Epoch 24/100\n",
      "32/32 [==============================] - 0s 9ms/step - loss: 0.7648 - accuracy: 0.7699 - val_loss: 1.7826 - val_accuracy: 0.4400\n",
      "Epoch 25/100\n",
      "32/32 [==============================] - 0s 10ms/step - loss: 0.7294 - accuracy: 0.7883 - val_loss: 1.8069 - val_accuracy: 0.4300\n",
      "Epoch 26/100\n",
      "32/32 [==============================] - 0s 9ms/step - loss: 0.6661 - accuracy: 0.8088 - val_loss: 1.7859 - val_accuracy: 0.4500\n",
      "Epoch 27/100\n",
      "32/32 [==============================] - 0s 9ms/step - loss: 0.5912 - accuracy: 0.8436 - val_loss: 1.8420 - val_accuracy: 0.4400\n",
      "Epoch 28/100\n",
      "32/32 [==============================] - 0s 9ms/step - loss: 0.5937 - accuracy: 0.8416 - val_loss: 1.8719 - val_accuracy: 0.4500\n",
      "Epoch 29/100\n",
      "32/32 [==============================] - 0s 9ms/step - loss: 0.5603 - accuracy: 0.8527 - val_loss: 1.9453 - val_accuracy: 0.3800\n",
      "Epoch 30/100\n",
      "32/32 [==============================] - 0s 10ms/step - loss: 0.5164 - accuracy: 0.8568 - val_loss: 1.9618 - val_accuracy: 0.4100\n",
      "Epoch 31/100\n",
      "32/32 [==============================] - 0s 11ms/step - loss: 0.4781 - accuracy: 0.8801 - val_loss: 1.9928 - val_accuracy: 0.4100\n",
      "Epoch 32/100\n",
      "32/32 [==============================] - 0s 9ms/step - loss: 0.4860 - accuracy: 0.8726 - val_loss: 2.1238 - val_accuracy: 0.3700\n",
      "Epoch 33/100\n",
      "32/32 [==============================] - 0s 13ms/step - loss: 0.4340 - accuracy: 0.8956 - val_loss: 2.0079 - val_accuracy: 0.4500\n",
      "Epoch 34/100\n",
      "32/32 [==============================] - 0s 10ms/step - loss: 0.3932 - accuracy: 0.9079 - val_loss: 2.1068 - val_accuracy: 0.4300\n",
      "Epoch 35/100\n",
      "32/32 [==============================] - 0s 10ms/step - loss: 0.3588 - accuracy: 0.9169 - val_loss: 2.1643 - val_accuracy: 0.4200\n",
      "Epoch 36/100\n",
      "32/32 [==============================] - 0s 9ms/step - loss: 0.3209 - accuracy: 0.9357 - val_loss: 2.1334 - val_accuracy: 0.4500\n",
      "Epoch 37/100\n",
      "32/32 [==============================] - 0s 10ms/step - loss: 0.2988 - accuracy: 0.9436 - val_loss: 2.1265 - val_accuracy: 0.4400\n",
      "Epoch 38/100\n",
      "32/32 [==============================] - 0s 10ms/step - loss: 0.2669 - accuracy: 0.9573 - val_loss: 2.1334 - val_accuracy: 0.4400\n",
      "Epoch 39/100\n",
      "32/32 [==============================] - 0s 8ms/step - loss: 0.2503 - accuracy: 0.9576 - val_loss: 2.3608 - val_accuracy: 0.4000\n",
      "Epoch 40/100\n",
      "32/32 [==============================] - 0s 8ms/step - loss: 0.2398 - accuracy: 0.9625 - val_loss: 2.2939 - val_accuracy: 0.4400\n",
      "Epoch 41/100\n",
      "32/32 [==============================] - 0s 8ms/step - loss: 0.2117 - accuracy: 0.9667 - val_loss: 2.3912 - val_accuracy: 0.4400\n",
      "Epoch 42/100\n",
      "32/32 [==============================] - 0s 11ms/step - loss: 0.2077 - accuracy: 0.9653 - val_loss: 2.3407 - val_accuracy: 0.4500\n",
      "Epoch 43/100\n",
      "32/32 [==============================] - 0s 9ms/step - loss: 0.1816 - accuracy: 0.9747 - val_loss: 2.3945 - val_accuracy: 0.4500\n",
      "Epoch 44/100\n",
      "32/32 [==============================] - 0s 8ms/step - loss: 0.1688 - accuracy: 0.9770 - val_loss: 2.3812 - val_accuracy: 0.4700\n",
      "Epoch 45/100\n",
      "32/32 [==============================] - 0s 8ms/step - loss: 0.1590 - accuracy: 0.9858 - val_loss: 2.5630 - val_accuracy: 0.4400\n",
      "Epoch 46/100\n",
      "32/32 [==============================] - 0s 9ms/step - loss: 0.1492 - accuracy: 0.9835 - val_loss: 2.5246 - val_accuracy: 0.3900\n",
      "Epoch 47/100\n",
      "32/32 [==============================] - 0s 9ms/step - loss: 0.1240 - accuracy: 0.9885 - val_loss: 2.5467 - val_accuracy: 0.4100\n",
      "Epoch 48/100\n",
      "32/32 [==============================] - 0s 9ms/step - loss: 0.1211 - accuracy: 0.9968 - val_loss: 2.6776 - val_accuracy: 0.4100\n",
      "Epoch 49/100\n",
      "32/32 [==============================] - 0s 8ms/step - loss: 0.0999 - accuracy: 0.9958 - val_loss: 2.6800 - val_accuracy: 0.4200\n",
      "Epoch 50/100\n",
      "32/32 [==============================] - 0s 9ms/step - loss: 0.0993 - accuracy: 0.9945 - val_loss: 2.7933 - val_accuracy: 0.3800\n",
      "Epoch 51/100\n",
      "32/32 [==============================] - 0s 9ms/step - loss: 0.0894 - accuracy: 0.9956 - val_loss: 2.8029 - val_accuracy: 0.4100\n",
      "Epoch 52/100\n",
      "32/32 [==============================] - 0s 9ms/step - loss: 0.0771 - accuracy: 0.9939 - val_loss: 2.8967 - val_accuracy: 0.4300\n",
      "Epoch 53/100\n",
      "32/32 [==============================] - 0s 10ms/step - loss: 0.0751 - accuracy: 0.9963 - val_loss: 2.9161 - val_accuracy: 0.4200\n",
      "Epoch 54/100\n",
      "32/32 [==============================] - 0s 9ms/step - loss: 0.0734 - accuracy: 0.9923 - val_loss: 2.9758 - val_accuracy: 0.4300\n",
      "Epoch 55/100\n",
      "32/32 [==============================] - 0s 9ms/step - loss: 0.0597 - accuracy: 0.9971 - val_loss: 2.9408 - val_accuracy: 0.4100\n",
      "Epoch 56/100\n",
      "32/32 [==============================] - 0s 9ms/step - loss: 0.0666 - accuracy: 0.9964 - val_loss: 2.9621 - val_accuracy: 0.3900\n",
      "Epoch 57/100\n",
      "32/32 [==============================] - 0s 8ms/step - loss: 0.0608 - accuracy: 0.9979 - val_loss: 3.1235 - val_accuracy: 0.4100\n",
      "Epoch 58/100\n",
      "32/32 [==============================] - 0s 8ms/step - loss: 0.0487 - accuracy: 0.9987 - val_loss: 3.1429 - val_accuracy: 0.4100\n",
      "Epoch 59/100\n",
      "32/32 [==============================] - 0s 8ms/step - loss: 0.0537 - accuracy: 0.9964 - val_loss: 3.1291 - val_accuracy: 0.4000\n",
      "Epoch 60/100\n",
      "32/32 [==============================] - 0s 9ms/step - loss: 0.0468 - accuracy: 0.9950 - val_loss: 3.2724 - val_accuracy: 0.4500\n",
      "Epoch 61/100\n",
      "32/32 [==============================] - 0s 9ms/step - loss: 0.0483 - accuracy: 0.9983 - val_loss: 3.1999 - val_accuracy: 0.4000\n",
      "Epoch 62/100\n",
      "32/32 [==============================] - 0s 8ms/step - loss: 0.0432 - accuracy: 0.9972 - val_loss: 3.2636 - val_accuracy: 0.4200\n",
      "Epoch 63/100\n",
      "32/32 [==============================] - 0s 11ms/step - loss: 0.0363 - accuracy: 1.0000 - val_loss: 3.3478 - val_accuracy: 0.4100\n",
      "Epoch 64/100\n",
      "32/32 [==============================] - 0s 12ms/step - loss: 0.0345 - accuracy: 1.0000 - val_loss: 3.3957 - val_accuracy: 0.3500\n",
      "Epoch 65/100\n",
      "32/32 [==============================] - 0s 9ms/step - loss: 0.0343 - accuracy: 0.9961 - val_loss: 3.4126 - val_accuracy: 0.4200\n",
      "Epoch 66/100\n",
      "32/32 [==============================] - 0s 8ms/step - loss: 0.0263 - accuracy: 1.0000 - val_loss: 3.4084 - val_accuracy: 0.4200\n",
      "Epoch 67/100\n",
      "32/32 [==============================] - 0s 9ms/step - loss: 0.0276 - accuracy: 1.0000 - val_loss: 3.4416 - val_accuracy: 0.3800\n",
      "Epoch 68/100\n",
      "32/32 [==============================] - 0s 9ms/step - loss: 0.0234 - accuracy: 1.0000 - val_loss: 3.5045 - val_accuracy: 0.4200\n",
      "Epoch 69/100\n",
      "32/32 [==============================] - 0s 9ms/step - loss: 0.0239 - accuracy: 1.0000 - val_loss: 3.5103 - val_accuracy: 0.3800\n",
      "Epoch 70/100\n",
      "32/32 [==============================] - 0s 9ms/step - loss: 0.0207 - accuracy: 1.0000 - val_loss: 3.5026 - val_accuracy: 0.3900\n",
      "Epoch 71/100\n",
      "32/32 [==============================] - 0s 9ms/step - loss: 0.0190 - accuracy: 1.0000 - val_loss: 3.5812 - val_accuracy: 0.3900\n",
      "Epoch 72/100\n",
      "32/32 [==============================] - 0s 10ms/step - loss: 0.0211 - accuracy: 1.0000 - val_loss: 3.5461 - val_accuracy: 0.3900\n",
      "Epoch 73/100\n",
      "32/32 [==============================] - 0s 9ms/step - loss: 0.0177 - accuracy: 1.0000 - val_loss: 3.6301 - val_accuracy: 0.3900\n",
      "Epoch 74/100\n",
      "32/32 [==============================] - 0s 8ms/step - loss: 0.0168 - accuracy: 1.0000 - val_loss: 3.7119 - val_accuracy: 0.3600\n",
      "Epoch 75/100\n",
      "32/32 [==============================] - 0s 8ms/step - loss: 0.0143 - accuracy: 1.0000 - val_loss: 3.6643 - val_accuracy: 0.4000\n",
      "Epoch 76/100\n",
      "32/32 [==============================] - 0s 9ms/step - loss: 0.0141 - accuracy: 1.0000 - val_loss: 3.7045 - val_accuracy: 0.3700\n",
      "Epoch 77/100\n",
      "32/32 [==============================] - 0s 9ms/step - loss: 0.0144 - accuracy: 1.0000 - val_loss: 3.7223 - val_accuracy: 0.3700\n",
      "Epoch 78/100\n",
      "32/32 [==============================] - 0s 9ms/step - loss: 0.0140 - accuracy: 1.0000 - val_loss: 3.7729 - val_accuracy: 0.3900\n",
      "Epoch 79/100\n",
      "32/32 [==============================] - 0s 9ms/step - loss: 0.0117 - accuracy: 1.0000 - val_loss: 3.7919 - val_accuracy: 0.3700\n",
      "Epoch 80/100\n",
      "32/32 [==============================] - 0s 9ms/step - loss: 0.0123 - accuracy: 1.0000 - val_loss: 3.8451 - val_accuracy: 0.3900\n",
      "Epoch 81/100\n",
      "32/32 [==============================] - 0s 10ms/step - loss: 0.0110 - accuracy: 1.0000 - val_loss: 3.8439 - val_accuracy: 0.3800\n",
      "Epoch 82/100\n",
      "32/32 [==============================] - 0s 9ms/step - loss: 0.0114 - accuracy: 1.0000 - val_loss: 3.8825 - val_accuracy: 0.3800\n",
      "Epoch 83/100\n",
      "32/32 [==============================] - 0s 10ms/step - loss: 0.0108 - accuracy: 1.0000 - val_loss: 3.9157 - val_accuracy: 0.3800\n",
      "Epoch 84/100\n",
      "32/32 [==============================] - 0s 9ms/step - loss: 0.0098 - accuracy: 1.0000 - val_loss: 3.9120 - val_accuracy: 0.3900\n",
      "Epoch 85/100\n",
      "32/32 [==============================] - 0s 9ms/step - loss: 0.0089 - accuracy: 1.0000 - val_loss: 3.9418 - val_accuracy: 0.3900\n",
      "Epoch 86/100\n",
      "32/32 [==============================] - 0s 10ms/step - loss: 0.0093 - accuracy: 1.0000 - val_loss: 3.9699 - val_accuracy: 0.3800\n",
      "Epoch 87/100\n",
      "32/32 [==============================] - 0s 9ms/step - loss: 0.0083 - accuracy: 1.0000 - val_loss: 3.9690 - val_accuracy: 0.3900\n",
      "Epoch 88/100\n",
      "32/32 [==============================] - 0s 9ms/step - loss: 0.0086 - accuracy: 1.0000 - val_loss: 4.0284 - val_accuracy: 0.3700\n",
      "Epoch 89/100\n",
      "32/32 [==============================] - 0s 11ms/step - loss: 0.0076 - accuracy: 1.0000 - val_loss: 4.0159 - val_accuracy: 0.3800\n",
      "Epoch 90/100\n",
      "32/32 [==============================] - 0s 10ms/step - loss: 0.0075 - accuracy: 1.0000 - val_loss: 4.0394 - val_accuracy: 0.3700\n",
      "Epoch 91/100\n",
      "32/32 [==============================] - 0s 9ms/step - loss: 0.0071 - accuracy: 1.0000 - val_loss: 4.1182 - val_accuracy: 0.3700\n",
      "Epoch 92/100\n",
      "32/32 [==============================] - 0s 9ms/step - loss: 0.0067 - accuracy: 1.0000 - val_loss: 4.1049 - val_accuracy: 0.4100\n",
      "Epoch 93/100\n",
      "32/32 [==============================] - 0s 9ms/step - loss: 0.0066 - accuracy: 1.0000 - val_loss: 4.1210 - val_accuracy: 0.3900\n",
      "Epoch 94/100\n",
      "32/32 [==============================] - 0s 9ms/step - loss: 0.0065 - accuracy: 1.0000 - val_loss: 4.1699 - val_accuracy: 0.3700\n",
      "Epoch 95/100\n",
      "32/32 [==============================] - 0s 9ms/step - loss: 0.0058 - accuracy: 1.0000 - val_loss: 4.1456 - val_accuracy: 0.3700\n",
      "Epoch 96/100\n",
      "32/32 [==============================] - 0s 9ms/step - loss: 0.0057 - accuracy: 1.0000 - val_loss: 4.1842 - val_accuracy: 0.4000\n",
      "Epoch 97/100\n",
      "32/32 [==============================] - 0s 10ms/step - loss: 0.0056 - accuracy: 1.0000 - val_loss: 4.2396 - val_accuracy: 0.3700\n",
      "Epoch 98/100\n",
      "32/32 [==============================] - 0s 9ms/step - loss: 0.0052 - accuracy: 1.0000 - val_loss: 4.2379 - val_accuracy: 0.3700\n",
      "Epoch 99/100\n",
      "32/32 [==============================] - 0s 9ms/step - loss: 0.0052 - accuracy: 1.0000 - val_loss: 4.2421 - val_accuracy: 0.3900\n",
      "Epoch 100/100\n",
      "32/32 [==============================] - 0s 10ms/step - loss: 0.0051 - accuracy: 1.0000 - val_loss: 4.2722 - val_accuracy: 0.3600\n"
     ]
    }
   ],
   "source": [
    "history = model.fit(X_train, y_train, epochs=100, validation_data=(X_test, y_test))"
   ]
  },
  {
   "cell_type": "code",
   "execution_count": 29,
   "metadata": {},
   "outputs": [],
   "source": [
    "import matplotlib.pyplot as plt"
   ]
  },
  {
   "cell_type": "code",
   "execution_count": 31,
   "metadata": {},
   "outputs": [
    {
     "data": {
      "text/plain": [
       "[<matplotlib.lines.Line2D at 0x7fc6c05e1dd8>]"
      ]
     },
     "execution_count": 31,
     "metadata": {},
     "output_type": "execute_result"
    },
    {
     "data": {
      "image/png": "[encoded data removed]",
      "text/plain": [
       "<Figure size 432x288 with 1 Axes>"
      ]
     },
     "metadata": {
      "needs_background": "light"
     },
     "output_type": "display_data"
    }
   ],
   "source": [
    "plt.plot(history.history['loss'])\n",
    "plt.plot(history.history['val_loss'])"
   ]
  },
  {
   "cell_type": "code",
   "execution_count": 32,
   "metadata": {},
   "outputs": [
    {
     "data": {
      "text/plain": [
       "[<matplotlib.lines.Line2D at 0x7fc6c006bac8>]"
      ]
     },
     "execution_count": 32,
     "metadata": {},
     "output_type": "execute_result"
    },
    {
     "data": {
      "image/png": "[encoded data removed]",
      "text/plain": [
       "<Figure size 432x288 with 1 Axes>"
      ]
     },
     "metadata": {
      "needs_background": "light"
     },
     "output_type": "display_data"
    }
   ],
   "source": [
    "plt.plot(history.history['accuracy'])\n",
    "plt.plot(history.history['val_accuracy'])"
   ]
  }
 ],
 "metadata": {
  "kernelspec": {
   "display_name": "py37",
   "language": "python",
   "name": "python3"
  },
  "language_info": {
   "codemirror_mode": {
    "name": "ipython",
    "version": 3
   },
   "file_extension": ".py",
   "mimetype": "text/x-python",
   "name": "python",
   "nbconvert_exporter": "python",
   "pygments_lexer": "ipython3",
   "version": "3.7.0"
  },
  "vscode": {
   "interpreter": {
    "hash": "73080970ff6fd25f9fcdf9c6f9e85b950a97864bb936ee53fb633f473cbfae4b"
   }
  }
 },
 "nbformat": 4,
 "nbformat_minor": 4
}

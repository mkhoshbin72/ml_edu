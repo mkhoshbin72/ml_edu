{
 "cells": [
  {
   "cell_type": "code",
   "execution_count": 32,
   "metadata": {},
   "outputs": [],
   "source": [
    "import pandas as pd\n",
    "import matplotlib.pyplot as plt\n",
    "import numpy as np"
   ]
  },
  {
   "cell_type": "code",
   "execution_count": 79,
   "metadata": {},
   "outputs": [],
   "source": [
    "train_df = pd.read_csv('train.csv')\n",
    "test_df = pd.read_csv('test.csv')"
   ]
  },
  {
   "cell_type": "code",
   "execution_count": 80,
   "metadata": {},
   "outputs": [
    {
     "data": {
      "text/html": [
       "<div>\n",
       "<style scoped>\n",
       "    .dataframe tbody tr th:only-of-type {\n",
       "        vertical-align: middle;\n",
       "    }\n",
       "\n",
       "    .dataframe tbody tr th {\n",
       "        vertical-align: top;\n",
       "    }\n",
       "\n",
       "    .dataframe thead th {\n",
       "        text-align: right;\n",
       "    }\n",
       "</style>\n",
       "<table border=\"1\" class=\"dataframe\">\n",
       "  <thead>\n",
       "    <tr style=\"text-align: right;\">\n",
       "      <th></th>\n",
       "      <th>PassengerId</th>\n",
       "      <th>Survived</th>\n",
       "      <th>Pclass</th>\n",
       "      <th>Name</th>\n",
       "      <th>Sex</th>\n",
       "      <th>Age</th>\n",
       "      <th>SibSp</th>\n",
       "      <th>Parch</th>\n",
       "      <th>Ticket</th>\n",
       "      <th>Fare</th>\n",
       "      <th>Cabin</th>\n",
       "      <th>Embarked</th>\n",
       "    </tr>\n",
       "  </thead>\n",
       "  <tbody>\n",
       "    <tr>\n",
       "      <th>0</th>\n",
       "      <td>1</td>\n",
       "      <td>0</td>\n",
       "      <td>3</td>\n",
       "      <td>Braund, Mr. Owen Harris</td>\n",
       "      <td>male</td>\n",
       "      <td>22.0</td>\n",
       "      <td>1</td>\n",
       "      <td>0</td>\n",
       "      <td>A/5 21171</td>\n",
       "      <td>7.2500</td>\n",
       "      <td>NaN</td>\n",
       "      <td>S</td>\n",
       "    </tr>\n",
       "    <tr>\n",
       "      <th>1</th>\n",
       "      <td>2</td>\n",
       "      <td>1</td>\n",
       "      <td>1</td>\n",
       "      <td>Cumings, Mrs. John Bradley (Florence Briggs Th...</td>\n",
       "      <td>female</td>\n",
       "      <td>38.0</td>\n",
       "      <td>1</td>\n",
       "      <td>0</td>\n",
       "      <td>PC 17599</td>\n",
       "      <td>71.2833</td>\n",
       "      <td>C85</td>\n",
       "      <td>C</td>\n",
       "    </tr>\n",
       "    <tr>\n",
       "      <th>2</th>\n",
       "      <td>3</td>\n",
       "      <td>1</td>\n",
       "      <td>3</td>\n",
       "      <td>Heikkinen, Miss. Laina</td>\n",
       "      <td>female</td>\n",
       "      <td>26.0</td>\n",
       "      <td>0</td>\n",
       "      <td>0</td>\n",
       "      <td>STON/O2. 3101282</td>\n",
       "      <td>7.9250</td>\n",
       "      <td>NaN</td>\n",
       "      <td>S</td>\n",
       "    </tr>\n",
       "    <tr>\n",
       "      <th>3</th>\n",
       "      <td>4</td>\n",
       "      <td>1</td>\n",
       "      <td>1</td>\n",
       "      <td>Futrelle, Mrs. Jacques Heath (Lily May Peel)</td>\n",
       "      <td>female</td>\n",
       "      <td>35.0</td>\n",
       "      <td>1</td>\n",
       "      <td>0</td>\n",
       "      <td>113803</td>\n",
       "      <td>53.1000</td>\n",
       "      <td>C123</td>\n",
       "      <td>S</td>\n",
       "    </tr>\n",
       "    <tr>\n",
       "      <th>4</th>\n",
       "      <td>5</td>\n",
       "      <td>0</td>\n",
       "      <td>3</td>\n",
       "      <td>Allen, Mr. William Henry</td>\n",
       "      <td>male</td>\n",
       "      <td>35.0</td>\n",
       "      <td>0</td>\n",
       "      <td>0</td>\n",
       "      <td>373450</td>\n",
       "      <td>8.0500</td>\n",
       "      <td>NaN</td>\n",
       "      <td>S</td>\n",
       "    </tr>\n",
       "  </tbody>\n",
       "</table>\n",
       "</div>"
      ],
      "text/plain": [
       "   PassengerId  Survived  Pclass  \\\n",
       "0            1         0       3   \n",
       "1            2         1       1   \n",
       "2            3         1       3   \n",
       "3            4         1       1   \n",
       "4            5         0       3   \n",
       "\n",
       "                                                Name     Sex   Age  SibSp  \\\n",
       "0                            Braund, Mr. Owen Harris    male  22.0      1   \n",
       "1  Cumings, Mrs. John Bradley (Florence Briggs Th...  female  38.0      1   \n",
       "2                             Heikkinen, Miss. Laina  female  26.0      0   \n",
       "3       Futrelle, Mrs. Jacques Heath (Lily May Peel)  female  35.0      1   \n",
       "4                           Allen, Mr. William Henry    male  35.0      0   \n",
       "\n",
       "   Parch            Ticket     Fare Cabin Embarked  \n",
       "0      0         A/5 21171   7.2500   NaN        S  \n",
       "1      0          PC 17599  71.2833   C85        C  \n",
       "2      0  STON/O2. 3101282   7.9250   NaN        S  \n",
       "3      0            113803  53.1000  C123        S  \n",
       "4      0            373450   8.0500   NaN        S  "
      ]
     },
     "execution_count": 80,
     "metadata": {},
     "output_type": "execute_result"
    }
   ],
   "source": [
    "train_df.head()"
   ]
  },
  {
   "cell_type": "code",
   "execution_count": 81,
   "metadata": {},
   "outputs": [
    {
     "name": "stdout",
     "output_type": "stream",
     "text": [
      "<class 'pandas.core.frame.DataFrame'>\n",
      "RangeIndex: 891 entries, 0 to 890\n",
      "Data columns (total 12 columns):\n",
      " #   Column       Non-Null Count  Dtype  \n",
      "---  ------       --------------  -----  \n",
      " 0   PassengerId  891 non-null    int64  \n",
      " 1   Survived     891 non-null    int64  \n",
      " 2   Pclass       891 non-null    int64  \n",
      " 3   Name         891 non-null    object \n",
      " 4   Sex          891 non-null    object \n",
      " 5   Age          714 non-null    float64\n",
      " 6   SibSp        891 non-null    int64  \n",
      " 7   Parch        891 non-null    int64  \n",
      " 8   Ticket       891 non-null    object \n",
      " 9   Fare         891 non-null    float64\n",
      " 10  Cabin        204 non-null    object \n",
      " 11  Embarked     889 non-null    object \n",
      "dtypes: float64(2), int64(5), object(5)\n",
      "memory usage: 83.7+ KB\n"
     ]
    }
   ],
   "source": [
    "train_df.info()"
   ]
  },
  {
   "attachments": {},
   "cell_type": "markdown",
   "metadata": {},
   "source": [
    "There exist some columns which contain null values. We can deal with these values in different ways.\n",
    "One way is removing the columns or rows which contain null values. Because of the massive number of null values in `Cabin` column and small number of null values in `Embarked` column, I will use this method for those two columns.\\\n",
    "Second way is imputing missing values with mean/median of column. I will use this method for `Age`.\\\n",
    "Another way is to predict missing values, using non-null values."
   ]
  },
  {
   "cell_type": "code",
   "execution_count": 82,
   "metadata": {},
   "outputs": [],
   "source": [
    "train_df.drop('Cabin', axis=1, inplace=True)\n",
    "test_df.drop('Cabin', axis=1, inplace=True)"
   ]
  },
  {
   "cell_type": "code",
   "execution_count": 83,
   "metadata": {},
   "outputs": [],
   "source": [
    "train_df['Age'] = train_df['Age'].replace(np.NaN, train_df['Age'].mean())\n",
    "test_df['Age'] = test_df['Age'].replace(np.NaN, test_df['Age'].mean())"
   ]
  },
  {
   "cell_type": "code",
   "execution_count": 84,
   "metadata": {},
   "outputs": [],
   "source": [
    "train_df.dropna(axis=0, inplace=True)\n",
    "test_df.dropna(axis=0, inplace=True)"
   ]
  },
  {
   "cell_type": "code",
   "execution_count": 85,
   "metadata": {},
   "outputs": [
    {
     "name": "stdout",
     "output_type": "stream",
     "text": [
      "<class 'pandas.core.frame.DataFrame'>\n",
      "Int64Index: 889 entries, 0 to 890\n",
      "Data columns (total 11 columns):\n",
      " #   Column       Non-Null Count  Dtype  \n",
      "---  ------       --------------  -----  \n",
      " 0   PassengerId  889 non-null    int64  \n",
      " 1   Survived     889 non-null    int64  \n",
      " 2   Pclass       889 non-null    int64  \n",
      " 3   Name         889 non-null    object \n",
      " 4   Sex          889 non-null    object \n",
      " 5   Age          889 non-null    float64\n",
      " 6   SibSp        889 non-null    int64  \n",
      " 7   Parch        889 non-null    int64  \n",
      " 8   Ticket       889 non-null    object \n",
      " 9   Fare         889 non-null    float64\n",
      " 10  Embarked     889 non-null    object \n",
      "dtypes: float64(2), int64(5), object(4)\n",
      "memory usage: 83.3+ KB\n"
     ]
    }
   ],
   "source": [
    "train_df.info()"
   ]
  },
  {
   "cell_type": "code",
   "execution_count": 86,
   "metadata": {},
   "outputs": [
    {
     "data": {
      "text/html": [
       "<div>\n",
       "<style scoped>\n",
       "    .dataframe tbody tr th:only-of-type {\n",
       "        vertical-align: middle;\n",
       "    }\n",
       "\n",
       "    .dataframe tbody tr th {\n",
       "        vertical-align: top;\n",
       "    }\n",
       "\n",
       "    .dataframe thead th {\n",
       "        text-align: right;\n",
       "    }\n",
       "</style>\n",
       "<table border=\"1\" class=\"dataframe\">\n",
       "  <thead>\n",
       "    <tr style=\"text-align: right;\">\n",
       "      <th></th>\n",
       "      <th>PassengerId</th>\n",
       "      <th>Survived</th>\n",
       "      <th>Pclass</th>\n",
       "      <th>Name</th>\n",
       "      <th>Sex</th>\n",
       "      <th>Age</th>\n",
       "      <th>SibSp</th>\n",
       "      <th>Parch</th>\n",
       "      <th>Ticket</th>\n",
       "      <th>Fare</th>\n",
       "      <th>Embarked</th>\n",
       "    </tr>\n",
       "  </thead>\n",
       "  <tbody>\n",
       "    <tr>\n",
       "      <th>0</th>\n",
       "      <td>1</td>\n",
       "      <td>0</td>\n",
       "      <td>3</td>\n",
       "      <td>Braund, Mr. Owen Harris</td>\n",
       "      <td>male</td>\n",
       "      <td>22.0</td>\n",
       "      <td>1</td>\n",
       "      <td>0</td>\n",
       "      <td>A/5 21171</td>\n",
       "      <td>7.2500</td>\n",
       "      <td>S</td>\n",
       "    </tr>\n",
       "    <tr>\n",
       "      <th>1</th>\n",
       "      <td>2</td>\n",
       "      <td>1</td>\n",
       "      <td>1</td>\n",
       "      <td>Cumings, Mrs. John Bradley (Florence Briggs Th...</td>\n",
       "      <td>female</td>\n",
       "      <td>38.0</td>\n",
       "      <td>1</td>\n",
       "      <td>0</td>\n",
       "      <td>PC 17599</td>\n",
       "      <td>71.2833</td>\n",
       "      <td>C</td>\n",
       "    </tr>\n",
       "    <tr>\n",
       "      <th>2</th>\n",
       "      <td>3</td>\n",
       "      <td>1</td>\n",
       "      <td>3</td>\n",
       "      <td>Heikkinen, Miss. Laina</td>\n",
       "      <td>female</td>\n",
       "      <td>26.0</td>\n",
       "      <td>0</td>\n",
       "      <td>0</td>\n",
       "      <td>STON/O2. 3101282</td>\n",
       "      <td>7.9250</td>\n",
       "      <td>S</td>\n",
       "    </tr>\n",
       "    <tr>\n",
       "      <th>3</th>\n",
       "      <td>4</td>\n",
       "      <td>1</td>\n",
       "      <td>1</td>\n",
       "      <td>Futrelle, Mrs. Jacques Heath (Lily May Peel)</td>\n",
       "      <td>female</td>\n",
       "      <td>35.0</td>\n",
       "      <td>1</td>\n",
       "      <td>0</td>\n",
       "      <td>113803</td>\n",
       "      <td>53.1000</td>\n",
       "      <td>S</td>\n",
       "    </tr>\n",
       "    <tr>\n",
       "      <th>4</th>\n",
       "      <td>5</td>\n",
       "      <td>0</td>\n",
       "      <td>3</td>\n",
       "      <td>Allen, Mr. William Henry</td>\n",
       "      <td>male</td>\n",
       "      <td>35.0</td>\n",
       "      <td>0</td>\n",
       "      <td>0</td>\n",
       "      <td>373450</td>\n",
       "      <td>8.0500</td>\n",
       "      <td>S</td>\n",
       "    </tr>\n",
       "  </tbody>\n",
       "</table>\n",
       "</div>"
      ],
      "text/plain": [
       "   PassengerId  Survived  Pclass  \\\n",
       "0            1         0       3   \n",
       "1            2         1       1   \n",
       "2            3         1       3   \n",
       "3            4         1       1   \n",
       "4            5         0       3   \n",
       "\n",
       "                                                Name     Sex   Age  SibSp  \\\n",
       "0                            Braund, Mr. Owen Harris    male  22.0      1   \n",
       "1  Cumings, Mrs. John Bradley (Florence Briggs Th...  female  38.0      1   \n",
       "2                             Heikkinen, Miss. Laina  female  26.0      0   \n",
       "3       Futrelle, Mrs. Jacques Heath (Lily May Peel)  female  35.0      1   \n",
       "4                           Allen, Mr. William Henry    male  35.0      0   \n",
       "\n",
       "   Parch            Ticket     Fare Embarked  \n",
       "0      0         A/5 21171   7.2500        S  \n",
       "1      0          PC 17599  71.2833        C  \n",
       "2      0  STON/O2. 3101282   7.9250        S  \n",
       "3      0            113803  53.1000        S  \n",
       "4      0            373450   8.0500        S  "
      ]
     },
     "execution_count": 86,
     "metadata": {},
     "output_type": "execute_result"
    }
   ],
   "source": [
    "train_df.head()"
   ]
  },
  {
   "cell_type": "code",
   "execution_count": 87,
   "metadata": {},
   "outputs": [
    {
     "data": {
      "text/plain": [
       "array(['S', 'C', 'Q'], dtype=object)"
      ]
     },
     "execution_count": 87,
     "metadata": {},
     "output_type": "execute_result"
    }
   ],
   "source": [
    "train_df['Embarked'].unique()"
   ]
  },
  {
   "attachments": {},
   "cell_type": "markdown",
   "metadata": {},
   "source": [
    "There is also some non-numeric columns in the dataset. I will remove `Name` and `Ticket` columns and convert `Sex` and `Embarked` columns to numerical values.\n",
    "Also I will remove `PassengerId` column, because it's useless."
   ]
  },
  {
   "cell_type": "code",
   "execution_count": 88,
   "metadata": {},
   "outputs": [],
   "source": [
    "train_df.drop(['PassengerId', 'Name', 'Ticket'], axis=1, inplace=True)\n",
    "test_df.drop(['PassengerId', 'Name', 'Ticket'], axis=1, inplace=True)"
   ]
  },
  {
   "cell_type": "code",
   "execution_count": 89,
   "metadata": {},
   "outputs": [],
   "source": [
    "train_df['Sex'] = train_df['Sex'].map({'male':0, 'female':1})\n",
    "test_df['Sex'] = test_df['Sex'].map({'male':0, 'female':1})"
   ]
  },
  {
   "cell_type": "code",
   "execution_count": 90,
   "metadata": {},
   "outputs": [],
   "source": [
    "train_df['Embarked'] = train_df['Embarked'].map({'S':0, 'C':1, 'Q':2})\n",
    "test_df['Embarked'] = test_df['Embarked'].map({'S':0, 'C':1, 'Q':2})"
   ]
  },
  {
   "attachments": {},
   "cell_type": "markdown",
   "metadata": {},
   "source": [
    "Now we should normalize dataset and train model with it."
   ]
  },
  {
   "cell_type": "code",
   "execution_count": 110,
   "metadata": {},
   "outputs": [],
   "source": [
    "from sklearn.preprocessing import MinMaxScaler, OneHotEncoder"
   ]
  },
  {
   "cell_type": "code",
   "execution_count": 94,
   "metadata": {},
   "outputs": [],
   "source": [
    "scaler = MinMaxScaler()\n",
    "train_df[['Age', 'Fare']] = scaler.fit_transform(train_df[['Age', 'Fare']])\n",
    "test_df[['Age', 'Fare']] = scaler.transform(test_df[['Age', 'Fare']])"
   ]
  },
  {
   "cell_type": "code",
   "execution_count": 97,
   "metadata": {},
   "outputs": [],
   "source": [
    "X_train, y_train = train_df.drop('Survived', axis=1), train_df['Survived']\n",
    "X_test, y_test = test_df.drop('Survived', axis=1), test_df['Survived']"
   ]
  },
  {
   "cell_type": "code",
   "execution_count": 98,
   "metadata": {},
   "outputs": [],
   "source": [
    "from sklearn import metrics\n",
    "from sklearn.svm import LinearSVC, SVC\n",
    "from sklearn.neighbors import KNeighborsClassifier"
   ]
  },
  {
   "cell_type": "code",
   "execution_count": 103,
   "metadata": {},
   "outputs": [
    {
     "name": "stdout",
     "output_type": "stream",
     "text": [
      "0.9616306954436451\n"
     ]
    }
   ],
   "source": [
    "model = LinearSVC(max_iter=10000)\n",
    "model.fit(X_train, y_train)\n",
    "pred = model.predict(X_test)\n",
    "acc_linearSVC = metrics.accuracy_score(y_test, pred)\n",
    "print(acc_linearSVC)"
   ]
  },
  {
   "cell_type": "code",
   "execution_count": 104,
   "metadata": {},
   "outputs": [
    {
     "name": "stdout",
     "output_type": "stream",
     "text": [
      "0.9832134292565947\n"
     ]
    }
   ],
   "source": [
    "model = SVC()\n",
    "model.fit(X_train, y_train)\n",
    "pred = model.predict(X_test)\n",
    "acc_SVC = metrics.accuracy_score(y_test, pred)\n",
    "print(acc_SVC)"
   ]
  },
  {
   "cell_type": "code",
   "execution_count": 105,
   "metadata": {},
   "outputs": [
    {
     "name": "stdout",
     "output_type": "stream",
     "text": [
      "0.8441247002398081\n"
     ]
    }
   ],
   "source": [
    "model = KNeighborsClassifier()\n",
    "model.fit(X_train, y_train)\n",
    "pred = model.predict(X_test)\n",
    "acc_knn = metrics.accuracy_score(y_test, pred)\n",
    "print(acc_knn)"
   ]
  },
  {
   "cell_type": "code",
   "execution_count": 106,
   "metadata": {},
   "outputs": [],
   "source": [
    "from tensorflow.keras.utils import to_categorical\n",
    "from tensorflow.keras.layers import Dense, Input, Dropout\n",
    "from tensorflow.keras.models import Sequential\n",
    "from tensorflow.keras.optimizers import Adam, SGD"
   ]
  },
  {
   "cell_type": "code",
   "execution_count": 129,
   "metadata": {},
   "outputs": [
    {
     "name": "stdout",
     "output_type": "stream",
     "text": [
      "Epoch 1/100\n",
      "WARNING:tensorflow:AutoGraph could not transform <function Model.make_train_function.<locals>.train_function at 0x7f67d0344ea0> and will run it as-is.\n",
      "Please report this to the TensorFlow team. When filing the bug, set the verbosity to 10 (on Linux, `export AUTOGRAPH_VERBOSITY=10`) and attach the full output.\n",
      "Cause: 'arguments' object has no attribute 'posonlyargs'\n",
      "To silence this warning, decorate the function with @tf.autograph.experimental.do_not_convert\n",
      "WARNING: AutoGraph could not transform <function Model.make_train_function.<locals>.train_function at 0x7f67d0344ea0> and will run it as-is.\n",
      "Please report this to the TensorFlow team. When filing the bug, set the verbosity to 10 (on Linux, `export AUTOGRAPH_VERBOSITY=10`) and attach the full output.\n",
      "Cause: 'arguments' object has no attribute 'posonlyargs'\n",
      "To silence this warning, decorate the function with @tf.autograph.experimental.do_not_convert\n",
      "WARNING:tensorflow:Model was constructed with shape (None, 889, 7) for input KerasTensor(type_spec=TensorSpec(shape=(None, 889, 7), dtype=tf.float32, name='input_7'), name='input_7', description=\"created by layer 'input_7'\"), but it was called on an input with incompatible shape (None, 7).\n",
      "WARNING:tensorflow:Model was constructed with shape (None, 889, 7) for input KerasTensor(type_spec=TensorSpec(shape=(None, 889, 7), dtype=tf.float32, name='input_7'), name='input_7', description=\"created by layer 'input_7'\"), but it was called on an input with incompatible shape (None, 7).\n",
      " 1/28 [>.............................] - ETA: 12s - loss: 0.9064 - accuracy: 0.3750WARNING:tensorflow:AutoGraph could not transform <function Model.make_test_function.<locals>.test_function at 0x7f67d02bb510> and will run it as-is.\n",
      "Please report this to the TensorFlow team. When filing the bug, set the verbosity to 10 (on Linux, `export AUTOGRAPH_VERBOSITY=10`) and attach the full output.\n",
      "Cause: 'arguments' object has no attribute 'posonlyargs'\n",
      "To silence this warning, decorate the function with @tf.autograph.experimental.do_not_convert\n",
      "WARNING: AutoGraph could not transform <function Model.make_test_function.<locals>.test_function at 0x7f67d02bb510> and will run it as-is.\n",
      "Please report this to the TensorFlow team. When filing the bug, set the verbosity to 10 (on Linux, `export AUTOGRAPH_VERBOSITY=10`) and attach the full output.\n",
      "Cause: 'arguments' object has no attribute 'posonlyargs'\n",
      "To silence this warning, decorate the function with @tf.autograph.experimental.do_not_convert\n",
      "WARNING:tensorflow:Model was constructed with shape (None, 889, 7) for input KerasTensor(type_spec=TensorSpec(shape=(None, 889, 7), dtype=tf.float32, name='input_7'), name='input_7', description=\"created by layer 'input_7'\"), but it was called on an input with incompatible shape (None, 7).\n",
      "28/28 [==============================] - 1s 10ms/step - loss: 0.7681 - accuracy: 0.5548 - val_loss: 0.6443 - val_accuracy: 0.6331\n",
      "Epoch 2/100\n",
      "28/28 [==============================] - 0s 3ms/step - loss: 0.6282 - accuracy: 0.6236 - val_loss: 0.5781 - val_accuracy: 0.7002\n",
      "Epoch 3/100\n",
      "28/28 [==============================] - 0s 3ms/step - loss: 0.5974 - accuracy: 0.6752 - val_loss: 0.5471 - val_accuracy: 0.7482\n",
      "Epoch 4/100\n",
      "28/28 [==============================] - 0s 3ms/step - loss: 0.5682 - accuracy: 0.7078 - val_loss: 0.5278 - val_accuracy: 0.7482\n",
      "Epoch 5/100\n",
      "28/28 [==============================] - 0s 4ms/step - loss: 0.5440 - accuracy: 0.7235 - val_loss: 0.5147 - val_accuracy: 0.7722\n",
      "Epoch 6/100\n",
      "28/28 [==============================] - 0s 4ms/step - loss: 0.5470 - accuracy: 0.7280 - val_loss: 0.5018 - val_accuracy: 0.8034\n",
      "Epoch 7/100\n",
      "28/28 [==============================] - 0s 3ms/step - loss: 0.5141 - accuracy: 0.7756 - val_loss: 0.4953 - val_accuracy: 0.8010\n",
      "Epoch 8/100\n",
      "28/28 [==============================] - 0s 5ms/step - loss: 0.5392 - accuracy: 0.7449 - val_loss: 0.4843 - val_accuracy: 0.8034\n",
      "Epoch 9/100\n",
      "28/28 [==============================] - 0s 3ms/step - loss: 0.5309 - accuracy: 0.7502 - val_loss: 0.4765 - val_accuracy: 0.8297\n",
      "Epoch 10/100\n",
      "28/28 [==============================] - 0s 3ms/step - loss: 0.5165 - accuracy: 0.7710 - val_loss: 0.4700 - val_accuracy: 0.8369\n",
      "Epoch 11/100\n",
      "28/28 [==============================] - 0s 4ms/step - loss: 0.5134 - accuracy: 0.7942 - val_loss: 0.4601 - val_accuracy: 0.8345\n",
      "Epoch 12/100\n",
      "28/28 [==============================] - 0s 4ms/step - loss: 0.5365 - accuracy: 0.7675 - val_loss: 0.4533 - val_accuracy: 0.8345\n",
      "Epoch 13/100\n",
      "28/28 [==============================] - 0s 4ms/step - loss: 0.4918 - accuracy: 0.7751 - val_loss: 0.4496 - val_accuracy: 0.8273\n",
      "Epoch 14/100\n",
      "28/28 [==============================] - 0s 3ms/step - loss: 0.5383 - accuracy: 0.7723 - val_loss: 0.4390 - val_accuracy: 0.8345\n",
      "Epoch 15/100\n",
      "28/28 [==============================] - 0s 4ms/step - loss: 0.5180 - accuracy: 0.7730 - val_loss: 0.4310 - val_accuracy: 0.8489\n",
      "Epoch 16/100\n",
      "28/28 [==============================] - 0s 3ms/step - loss: 0.5150 - accuracy: 0.7887 - val_loss: 0.4227 - val_accuracy: 0.8489\n",
      "Epoch 17/100\n",
      "28/28 [==============================] - 0s 3ms/step - loss: 0.5440 - accuracy: 0.7622 - val_loss: 0.4159 - val_accuracy: 0.8441\n",
      "Epoch 18/100\n",
      "28/28 [==============================] - 0s 3ms/step - loss: 0.5088 - accuracy: 0.7791 - val_loss: 0.4084 - val_accuracy: 0.8537\n",
      "Epoch 19/100\n",
      "28/28 [==============================] - 0s 11ms/step - loss: 0.4937 - accuracy: 0.7855 - val_loss: 0.4024 - val_accuracy: 0.8585\n",
      "Epoch 20/100\n",
      "28/28 [==============================] - 0s 3ms/step - loss: 0.4636 - accuracy: 0.8071 - val_loss: 0.3978 - val_accuracy: 0.8561\n",
      "Epoch 21/100\n",
      "28/28 [==============================] - 0s 3ms/step - loss: 0.5125 - accuracy: 0.7799 - val_loss: 0.3858 - val_accuracy: 0.8609\n",
      "Epoch 22/100\n",
      "28/28 [==============================] - 0s 4ms/step - loss: 0.5243 - accuracy: 0.7709 - val_loss: 0.3771 - val_accuracy: 0.8609\n",
      "Epoch 23/100\n",
      "28/28 [==============================] - 0s 4ms/step - loss: 0.5036 - accuracy: 0.7796 - val_loss: 0.3714 - val_accuracy: 0.8705\n",
      "Epoch 24/100\n",
      "28/28 [==============================] - 0s 4ms/step - loss: 0.4684 - accuracy: 0.8163 - val_loss: 0.3656 - val_accuracy: 0.8705\n",
      "Epoch 25/100\n",
      "28/28 [==============================] - 0s 4ms/step - loss: 0.4627 - accuracy: 0.8102 - val_loss: 0.3595 - val_accuracy: 0.8705\n",
      "Epoch 26/100\n",
      "28/28 [==============================] - 0s 4ms/step - loss: 0.4787 - accuracy: 0.8070 - val_loss: 0.3492 - val_accuracy: 0.8729\n",
      "Epoch 27/100\n",
      "28/28 [==============================] - 0s 3ms/step - loss: 0.4748 - accuracy: 0.7894 - val_loss: 0.3444 - val_accuracy: 0.8753\n",
      "Epoch 28/100\n",
      "28/28 [==============================] - 0s 3ms/step - loss: 0.4465 - accuracy: 0.8154 - val_loss: 0.3418 - val_accuracy: 0.8993\n",
      "Epoch 29/100\n",
      "28/28 [==============================] - 0s 3ms/step - loss: 0.4551 - accuracy: 0.8001 - val_loss: 0.3341 - val_accuracy: 0.8897\n",
      "Epoch 30/100\n",
      "28/28 [==============================] - 0s 3ms/step - loss: 0.4542 - accuracy: 0.8054 - val_loss: 0.3310 - val_accuracy: 0.9185\n",
      "Epoch 31/100\n",
      "28/28 [==============================] - 0s 4ms/step - loss: 0.4692 - accuracy: 0.7996 - val_loss: 0.3217 - val_accuracy: 0.9113\n",
      "Epoch 32/100\n",
      "28/28 [==============================] - 0s 3ms/step - loss: 0.4850 - accuracy: 0.7783 - val_loss: 0.3177 - val_accuracy: 0.9161\n",
      "Epoch 33/100\n",
      "28/28 [==============================] - 0s 3ms/step - loss: 0.4815 - accuracy: 0.8045 - val_loss: 0.3109 - val_accuracy: 0.9209\n",
      "Epoch 34/100\n",
      "28/28 [==============================] - 0s 5ms/step - loss: 0.4451 - accuracy: 0.8101 - val_loss: 0.3084 - val_accuracy: 0.9376\n",
      "Epoch 35/100\n",
      "28/28 [==============================] - 0s 4ms/step - loss: 0.4604 - accuracy: 0.7907 - val_loss: 0.3061 - val_accuracy: 0.9257\n",
      "Epoch 36/100\n",
      "28/28 [==============================] - 0s 3ms/step - loss: 0.4638 - accuracy: 0.7994 - val_loss: 0.3019 - val_accuracy: 0.9472\n",
      "Epoch 37/100\n",
      "28/28 [==============================] - 0s 3ms/step - loss: 0.4532 - accuracy: 0.7881 - val_loss: 0.2981 - val_accuracy: 0.9472\n",
      "Epoch 38/100\n",
      "28/28 [==============================] - 0s 3ms/step - loss: 0.4331 - accuracy: 0.8057 - val_loss: 0.2975 - val_accuracy: 0.9400\n",
      "Epoch 39/100\n",
      "28/28 [==============================] - 0s 3ms/step - loss: 0.4697 - accuracy: 0.7915 - val_loss: 0.2895 - val_accuracy: 0.9472\n",
      "Epoch 40/100\n",
      "28/28 [==============================] - 0s 3ms/step - loss: 0.4168 - accuracy: 0.8311 - val_loss: 0.2901 - val_accuracy: 0.9496\n",
      "Epoch 41/100\n",
      "28/28 [==============================] - 0s 3ms/step - loss: 0.4861 - accuracy: 0.7703 - val_loss: 0.2836 - val_accuracy: 0.9520\n",
      "Epoch 42/100\n",
      "28/28 [==============================] - 0s 3ms/step - loss: 0.4685 - accuracy: 0.7845 - val_loss: 0.2846 - val_accuracy: 0.9520\n",
      "Epoch 43/100\n",
      "28/28 [==============================] - 0s 3ms/step - loss: 0.4515 - accuracy: 0.8034 - val_loss: 0.2840 - val_accuracy: 0.9544\n",
      "Epoch 44/100\n",
      "28/28 [==============================] - 0s 3ms/step - loss: 0.4578 - accuracy: 0.7848 - val_loss: 0.2781 - val_accuracy: 0.9568\n",
      "Epoch 45/100\n",
      "28/28 [==============================] - 0s 3ms/step - loss: 0.4522 - accuracy: 0.7987 - val_loss: 0.2777 - val_accuracy: 0.9544\n",
      "Epoch 46/100\n",
      "28/28 [==============================] - 0s 4ms/step - loss: 0.4633 - accuracy: 0.7806 - val_loss: 0.2757 - val_accuracy: 0.9520\n",
      "Epoch 47/100\n",
      "28/28 [==============================] - 0s 3ms/step - loss: 0.4608 - accuracy: 0.7836 - val_loss: 0.2751 - val_accuracy: 0.9592\n",
      "Epoch 48/100\n",
      "28/28 [==============================] - 0s 3ms/step - loss: 0.4818 - accuracy: 0.7741 - val_loss: 0.2707 - val_accuracy: 0.9592\n",
      "Epoch 49/100\n",
      "28/28 [==============================] - 0s 4ms/step - loss: 0.4492 - accuracy: 0.7939 - val_loss: 0.2695 - val_accuracy: 0.9616\n",
      "Epoch 50/100\n",
      "28/28 [==============================] - 0s 4ms/step - loss: 0.4565 - accuracy: 0.7942 - val_loss: 0.2711 - val_accuracy: 0.9616\n",
      "Epoch 51/100\n",
      "28/28 [==============================] - 0s 4ms/step - loss: 0.4342 - accuracy: 0.8015 - val_loss: 0.2678 - val_accuracy: 0.9592\n",
      "Epoch 52/100\n",
      "28/28 [==============================] - 0s 3ms/step - loss: 0.4316 - accuracy: 0.8026 - val_loss: 0.2682 - val_accuracy: 0.9568\n",
      "Epoch 53/100\n",
      "28/28 [==============================] - 0s 3ms/step - loss: 0.4570 - accuracy: 0.7920 - val_loss: 0.2650 - val_accuracy: 0.9616\n",
      "Epoch 54/100\n",
      "28/28 [==============================] - 0s 3ms/step - loss: 0.4346 - accuracy: 0.8159 - val_loss: 0.2647 - val_accuracy: 0.9592\n",
      "Epoch 55/100\n",
      "28/28 [==============================] - 0s 3ms/step - loss: 0.4561 - accuracy: 0.7799 - val_loss: 0.2668 - val_accuracy: 0.9568\n",
      "Epoch 56/100\n",
      "28/28 [==============================] - 0s 4ms/step - loss: 0.4156 - accuracy: 0.8150 - val_loss: 0.2686 - val_accuracy: 0.9568\n",
      "Epoch 57/100\n",
      "28/28 [==============================] - 0s 3ms/step - loss: 0.4326 - accuracy: 0.8204 - val_loss: 0.2691 - val_accuracy: 0.9592\n",
      "Epoch 58/100\n",
      "28/28 [==============================] - 0s 9ms/step - loss: 0.4645 - accuracy: 0.7909 - val_loss: 0.2637 - val_accuracy: 0.9616\n",
      "Epoch 59/100\n",
      "28/28 [==============================] - 0s 4ms/step - loss: 0.4344 - accuracy: 0.8009 - val_loss: 0.2669 - val_accuracy: 0.9592\n",
      "Epoch 60/100\n",
      "28/28 [==============================] - 0s 3ms/step - loss: 0.4355 - accuracy: 0.8251 - val_loss: 0.2642 - val_accuracy: 0.9592\n",
      "Epoch 61/100\n",
      "28/28 [==============================] - 0s 3ms/step - loss: 0.4599 - accuracy: 0.7888 - val_loss: 0.2663 - val_accuracy: 0.9544\n",
      "Epoch 62/100\n",
      "28/28 [==============================] - 0s 3ms/step - loss: 0.4442 - accuracy: 0.7973 - val_loss: 0.2674 - val_accuracy: 0.9568\n",
      "Epoch 63/100\n",
      "28/28 [==============================] - 0s 3ms/step - loss: 0.4714 - accuracy: 0.7825 - val_loss: 0.2655 - val_accuracy: 0.9592\n",
      "Epoch 64/100\n",
      "28/28 [==============================] - 0s 4ms/step - loss: 0.4318 - accuracy: 0.8185 - val_loss: 0.2642 - val_accuracy: 0.9568\n",
      "Epoch 65/100\n",
      "28/28 [==============================] - 0s 4ms/step - loss: 0.4352 - accuracy: 0.8235 - val_loss: 0.2665 - val_accuracy: 0.9592\n",
      "Epoch 66/100\n",
      "28/28 [==============================] - 0s 5ms/step - loss: 0.4401 - accuracy: 0.7999 - val_loss: 0.2665 - val_accuracy: 0.9568\n",
      "Epoch 67/100\n",
      "28/28 [==============================] - 0s 3ms/step - loss: 0.4470 - accuracy: 0.8056 - val_loss: 0.2634 - val_accuracy: 0.9616\n",
      "Epoch 68/100\n",
      "28/28 [==============================] - 0s 3ms/step - loss: 0.4340 - accuracy: 0.8031 - val_loss: 0.2626 - val_accuracy: 0.9544\n",
      "Epoch 69/100\n",
      "28/28 [==============================] - 0s 3ms/step - loss: 0.4221 - accuracy: 0.8194 - val_loss: 0.2659 - val_accuracy: 0.9568\n",
      "Epoch 70/100\n",
      "28/28 [==============================] - 0s 3ms/step - loss: 0.4514 - accuracy: 0.8000 - val_loss: 0.2633 - val_accuracy: 0.9568\n",
      "Epoch 71/100\n",
      "28/28 [==============================] - 0s 3ms/step - loss: 0.4598 - accuracy: 0.7871 - val_loss: 0.2626 - val_accuracy: 0.9616\n",
      "Epoch 72/100\n",
      "28/28 [==============================] - 0s 4ms/step - loss: 0.4852 - accuracy: 0.7863 - val_loss: 0.2610 - val_accuracy: 0.9568\n",
      "Epoch 73/100\n",
      "28/28 [==============================] - 0s 3ms/step - loss: 0.4641 - accuracy: 0.7743 - val_loss: 0.2627 - val_accuracy: 0.9568\n",
      "Epoch 74/100\n",
      "28/28 [==============================] - 0s 3ms/step - loss: 0.4204 - accuracy: 0.8177 - val_loss: 0.2628 - val_accuracy: 0.9568\n",
      "Epoch 75/100\n",
      "28/28 [==============================] - 0s 4ms/step - loss: 0.4450 - accuracy: 0.7901 - val_loss: 0.2633 - val_accuracy: 0.9616\n",
      "Epoch 76/100\n",
      "28/28 [==============================] - 0s 3ms/step - loss: 0.4401 - accuracy: 0.8109 - val_loss: 0.2637 - val_accuracy: 0.9544\n",
      "Epoch 77/100\n",
      "28/28 [==============================] - 0s 3ms/step - loss: 0.4810 - accuracy: 0.7675 - val_loss: 0.2598 - val_accuracy: 0.9544\n",
      "Epoch 78/100\n",
      "28/28 [==============================] - 0s 6ms/step - loss: 0.4531 - accuracy: 0.7985 - val_loss: 0.2623 - val_accuracy: 0.9568\n",
      "Epoch 79/100\n",
      "28/28 [==============================] - 0s 4ms/step - loss: 0.4314 - accuracy: 0.7947 - val_loss: 0.2654 - val_accuracy: 0.9568\n",
      "Epoch 80/100\n",
      "28/28 [==============================] - 0s 3ms/step - loss: 0.4423 - accuracy: 0.8052 - val_loss: 0.2647 - val_accuracy: 0.9568\n",
      "Epoch 81/100\n",
      "28/28 [==============================] - 0s 3ms/step - loss: 0.4692 - accuracy: 0.7911 - val_loss: 0.2612 - val_accuracy: 0.9544\n",
      "Epoch 82/100\n",
      "28/28 [==============================] - 0s 3ms/step - loss: 0.4418 - accuracy: 0.7980 - val_loss: 0.2656 - val_accuracy: 0.9544\n",
      "Epoch 83/100\n",
      "28/28 [==============================] - 0s 3ms/step - loss: 0.4331 - accuracy: 0.7998 - val_loss: 0.2636 - val_accuracy: 0.9568\n",
      "Epoch 84/100\n",
      "28/28 [==============================] - 0s 3ms/step - loss: 0.4453 - accuracy: 0.8001 - val_loss: 0.2620 - val_accuracy: 0.9568\n",
      "Epoch 85/100\n",
      "28/28 [==============================] - 0s 3ms/step - loss: 0.4491 - accuracy: 0.8026 - val_loss: 0.2630 - val_accuracy: 0.9544\n",
      "Epoch 86/100\n",
      "28/28 [==============================] - 0s 4ms/step - loss: 0.4684 - accuracy: 0.7863 - val_loss: 0.2611 - val_accuracy: 0.9592\n",
      "Epoch 87/100\n",
      "28/28 [==============================] - 0s 3ms/step - loss: 0.4267 - accuracy: 0.8165 - val_loss: 0.2637 - val_accuracy: 0.9544\n",
      "Epoch 88/100\n",
      "28/28 [==============================] - 0s 3ms/step - loss: 0.4302 - accuracy: 0.8197 - val_loss: 0.2590 - val_accuracy: 0.9568\n",
      "Epoch 89/100\n",
      "28/28 [==============================] - 0s 4ms/step - loss: 0.4048 - accuracy: 0.8217 - val_loss: 0.2623 - val_accuracy: 0.9544\n",
      "Epoch 90/100\n",
      "28/28 [==============================] - 0s 5ms/step - loss: 0.4660 - accuracy: 0.7846 - val_loss: 0.2615 - val_accuracy: 0.9568\n",
      "Epoch 91/100\n",
      "28/28 [==============================] - 0s 3ms/step - loss: 0.4426 - accuracy: 0.7967 - val_loss: 0.2621 - val_accuracy: 0.9568\n",
      "Epoch 92/100\n",
      "28/28 [==============================] - 0s 3ms/step - loss: 0.4482 - accuracy: 0.8013 - val_loss: 0.2641 - val_accuracy: 0.9568\n",
      "Epoch 93/100\n",
      "28/28 [==============================] - 0s 3ms/step - loss: 0.4294 - accuracy: 0.8182 - val_loss: 0.2647 - val_accuracy: 0.9568\n",
      "Epoch 94/100\n",
      "28/28 [==============================] - 0s 4ms/step - loss: 0.4529 - accuracy: 0.7975 - val_loss: 0.2624 - val_accuracy: 0.9544\n",
      "Epoch 95/100\n",
      "28/28 [==============================] - 0s 3ms/step - loss: 0.4448 - accuracy: 0.7954 - val_loss: 0.2671 - val_accuracy: 0.9496\n",
      "Epoch 96/100\n",
      "28/28 [==============================] - 0s 3ms/step - loss: 0.4296 - accuracy: 0.8183 - val_loss: 0.2650 - val_accuracy: 0.9544\n",
      "Epoch 97/100\n",
      "28/28 [==============================] - 0s 9ms/step - loss: 0.4194 - accuracy: 0.8311 - val_loss: 0.2679 - val_accuracy: 0.9520\n",
      "Epoch 98/100\n",
      "28/28 [==============================] - 0s 4ms/step - loss: 0.4589 - accuracy: 0.7973 - val_loss: 0.2649 - val_accuracy: 0.9520\n",
      "Epoch 99/100\n",
      "28/28 [==============================] - 0s 3ms/step - loss: 0.4273 - accuracy: 0.8147 - val_loss: 0.2642 - val_accuracy: 0.9568\n",
      "Epoch 100/100\n",
      "28/28 [==============================] - 0s 3ms/step - loss: 0.4566 - accuracy: 0.7925 - val_loss: 0.2640 - val_accuracy: 0.9568\n"
     ]
    }
   ],
   "source": [
    "model = Sequential()\n",
    "\n",
    "model.add(Input(X_train.shape))\n",
    "model.add(Dense(4))\n",
    "model.add(Dense(8))\n",
    "model.add(Dense(8))\n",
    "model.add(Dense(2, activation='sigmoid'))\n",
    "\n",
    "opt = SGD(learning_rate=1e-2)\n",
    "\n",
    "model.compile(optimizer=opt, loss='categorical_crossentropy', metrics=['accuracy'])\n",
    "history = model.fit(\n",
    "            X_train, to_categorical(y_train), \n",
    "            batch_size=32, \n",
    "            validation_data=(X_test, to_categorical(y_test)), \n",
    "            epochs=100\n",
    ")"
   ]
  },
  {
   "cell_type": "code",
   "execution_count": 130,
   "metadata": {},
   "outputs": [
    {
     "data": {
      "text/plain": [
       "<matplotlib.legend.Legend at 0x7f67ec2de048>"
      ]
     },
     "execution_count": 130,
     "metadata": {},
     "output_type": "execute_result"
    },
    {
     "data": {
      "image/png": "[encoded data removed]",
      "text/plain": [
       "<Figure size 864x432 with 1 Axes>"
      ]
     },
     "metadata": {
      "needs_background": "light"
     },
     "output_type": "display_data"
    }
   ],
   "source": [
    "plt.figure(figsize=(12,6))\n",
    "plt.plot(history.history['accuracy'], label='Train Accuracy')\n",
    "plt.plot(history.history['val_accuracy'], label='Validation Accuracy')\n",
    "plt.legend()"
   ]
  },
  {
   "cell_type": "code",
   "execution_count": 131,
   "metadata": {},
   "outputs": [
    {
     "data": {
      "text/plain": [
       "<matplotlib.legend.Legend at 0x7f67d04beef0>"
      ]
     },
     "execution_count": 131,
     "metadata": {},
     "output_type": "execute_result"
    },
    {
     "data": {
      "image/png": "[encoded data removed]",
      "text/plain": [
       "<Figure size 864x432 with 1 Axes>"
      ]
     },
     "metadata": {
      "needs_background": "light"
     },
     "output_type": "display_data"
    }
   ],
   "source": [
    "plt.figure(figsize=(12,6))\n",
    "plt.plot(history.history['loss'], label='Train Loss')\n",
    "plt.plot(history.history['val_loss'], label='Validation Loss')\n",
    "plt.legend()"
   ]
  },
  {
   "cell_type": "code",
   "execution_count": null,
   "metadata": {},
   "outputs": [],
   "source": []
  }
 ],
 "metadata": {
  "kernelspec": {
   "display_name": "py37",
   "language": "python",
   "name": "python3"
  },
  "language_info": {
   "codemirror_mode": {
    "name": "ipython",
    "version": 3
   },
   "file_extension": ".py",
   "mimetype": "text/x-python",
   "name": "python",
   "nbconvert_exporter": "python",
   "pygments_lexer": "ipython3",
   "version": "3.7.0"
  },
  "orig_nbformat": 4,
  "vscode": {
   "interpreter": {
    "hash": "73080970ff6fd25f9fcdf9c6f9e85b950a97864bb936ee53fb633f473cbfae4b"
   }
  }
 },
 "nbformat": 4,
 "nbformat_minor": 2
}
